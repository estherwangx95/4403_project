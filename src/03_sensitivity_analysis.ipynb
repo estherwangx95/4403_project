# notebooks/03_sensitivity_analysis.ipynb

import sys
sys.path.append('../src')

import numpy as np
import pandas as pd
import matplotlib.pyplot as plt
import seaborn as sns

from models.minimal_market_abm import MinimalMarketABM

# 设置图表风格
plt.rcParams['font.sans-serif'] = ['SimHei', 'Arial']
plt.rcParams['axes.unicode_minus'] = False
sns.set_style("whitegrid")

# ===============================
# 实验函数定义
# ===============================

def run_sensitivity_experiment(negotiation_powers, num_runs=5, days=120, num_residents=40):
    """
    对团长议价能力 (negotiation_power) 进行敏感性分析。
    
    参数：
        negotiation_powers: list[float] - 团长议价能力取值列表 (0~1)
        num_runs: int - 每个场景重复运行次数
        days: int - 每次模拟天数
        num_residents: int - 居民数量
    返回：
        pd.DataFrame - 汇总实验结果
    """
    all_results = []

    for power in negotiation_powers:
        for run in range(num_runs):
            model = MinimalMarketABM(num_residents=num_residents, has_groupbuy=True)
            # 修改团长议价能力
            model.leader.negotiation_power = power
            
            results = model.run_simulation(days=days)
            results['negotiation_power'] = power
            results['run'] = run
            all_results.append(results)
    
    df = pd.DataFrame(all_results)
    return df


# ===============================
# 运行实验
# ===============================

negotiation_powers = [0.3, 0.5, 0.7, 0.9]  # 团长议价能力水平
print("正在运行团长议价能力敏感性实验...")

df_sensitivity = run_sensitivity_experiment(negotiation_powers)
df_sensitivity.to_csv('../data/sensitivity_results.csv', index=False)

print("实验完成！结果示例：")
print(df_sensitivity.head())


# ===============================
# 数据分析与统计
# ===============================

summary = df_sensitivity.groupby('negotiation_power').agg({
    'service_level': ['mean', 'std'],
    'total_spoilage': ['mean', 'std'],
    'avg_daily_spoilage': ['mean', 'std'],
    'stockout_rate': ['mean', 'std']
}).round(4)

summary.columns = ['_'.join(col).strip() for col in summary.columns.values]
summary.reset_index(inplace=True)

print("\n=== 敏感性实验统计汇总 ===")
print(summary)


# ===============================
# 可视化分析
# ===============================

# 图1：服务率随议价能力变化
plt.figure(figsize=(10,6))
sns.lineplot(data=summary, x='negotiation_power', y='service_level_mean', marker='o')
plt.fill_between(summary['negotiation_power'],
                 summary['service_level_mean'] - summary['service_level_std'],
                 summary['service_level_mean'] + summary['service_level_std'],
                 alpha=0.2)
plt.title("服务率对团长议价能力的敏感性分析", fontweight='bold')
plt.xlabel("团长议价能力")
plt.ylabel("平均服务率")
plt.grid(True)
plt.savefig('../data/sensitivity_service_level.png', dpi=300, bbox_inches='tight')
plt.show()

# 图2：总损耗与缺货率随议价能力变化
fig, ax = plt.subplots(1, 2, figsize=(14,6))
sns.lineplot(data=summary, x='negotiation_power', y='total_spoilage_mean', marker='s', ax=ax[0])
sns.lineplot(data=summary, x='negotiation_power', y='stockout_rate_mean', marker='D', ax=ax[1])

ax[0].set_title("总损耗量 vs 议价能力")
ax[1].set_title("缺货率 vs 议价能力")

for a in ax:
    a.set_xlabel("团长议价能力")
    a.grid(True)

plt.tight_layout()
plt.savefig('../data/sensitivity_spoilage_stockout.png', dpi=300, bbox_inches='tight')
plt.show()


# ===============================
# 系统稳定性指标计算（附加分析）
# ===============================

def run_stability_measurement(power, days=180, num_residents=40):
    """计算给定议价能力下的系统波动性"""
    model = MinimalMarketABM(num_residents=num_residents, has_groupbuy=True)
    model.leader.negotiation_power = power
    
    daily_records = []
    for _ in range(days):
        metrics = model.run_one_day()
        daily_records.append(metrics)
    df_daily = pd.DataFrame(daily_records)
    
    # 计算波动性指标
    demand_std = df_daily['demand'].std()
    sales_std = df_daily['sales'].std()
    spoilage_std = df_daily['spoilage'].std()
    
    stability_index = 1 / (demand_std + spoilage_std + 1e-6)
    
    return {
        'negotiation_power': power,
        'demand_std': demand_std,
        'sales_std': sales_std,
        'spoilage_std': spoilage_std,
        'stability_index': stability_index
    }

print("\n计算系统稳定性指标...")
stability_data = [run_stability_measurement(p) for p in negotiation_powers]
df_stability = pd.DataFrame(stability_data)
df_stability.to_csv('../data/sensitivity_stability.csv', index=False)

print(df_stability)


# ===============================
# 稳定性结果可视化
# ===============================

plt.figure(figsize=(10,6))
sns.lineplot(data=df_stability, x='negotiation_power', y='stability_index', marker='o')
plt.title("系统稳定性指数随议价能力变化", fontweight='bold')
plt.xlabel("团长议价能力")
plt.ylabel("系统稳定性指数（越高越稳）")
plt.grid(True)
plt.savefig('../data/sensitivity_stability_index.png', dpi=300, bbox_inches='tight')
plt.show()

print("✅ 敏感性分析全部完成！结果已保存至 data/ 文件夹。")