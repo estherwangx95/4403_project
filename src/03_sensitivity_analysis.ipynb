# ==========================================================
# File: notebooks/03_visualization_advanced.ipynb
# Project: CITS4403 Complex Systems Modeling
# Purpose: Advanced Visualization for Enhanced Minimal Market ABM
# ==========================================================

# --- Imports ---
import sys
import numpy as np
import pandas as pd
import matplotlib.pyplot as plt
import seaborn as sns

# Add project source directory
sys.path.append('../src')
from models.enhanced_minimal_market_abm import EnhancedMinimalMarketABM

# --- Visualization Settings ---
plt.rcParams['font.sans-serif'] = ['Arial']
plt.rcParams['axes.unicode_minus'] = False
sns.set_style("whitegrid")

# ==========================================================
# 1. Run Simulation or Load Data
# ==========================================================

print("🚀 Running Enhanced Minimal Market ABM simulation...")

model = EnhancedMinimalMarketABM(num_residents=60, has_groupbuy=True)
results = model.run_simulation(days=120)
final_metrics = model.get_final_metrics()

print("\n✅ Simulation Completed.")
print("Final summary:")
for k, v in final_metrics.items():
    print(f"{k}: {v}")

# Optionally save data for reproducibility
results.to_csv('../data/advanced_simulation_results.csv', index=False)

# ==========================================================
# 2. Key Metric Trends
# ==========================================================

print("\n📊 Plotting key system metrics...")

fig, axes = plt.subplots(3, 2, figsize=(15, 12))
fig.suptitle("System Dynamics and Complexity Evolution", fontsize=16, fontweight='bold')

# --- Demand and Spoilage ---
axes[0, 0].plot(results['day'], results['demand'], label='Total Demand', linewidth=2)
axes[0, 0].plot(results['day'], results['spoilage'], label='Total Spoilage', linewidth=2)
axes[0, 0].set_title('Demand vs Spoilage Over Time')
axes[0, 0].set_xlabel('Day')
axes[0, 0].set_ylabel('Quantity')
axes[0, 0].legend()

# --- Revenue ---
axes[0, 1].plot(results['day'], results['revenue'], color='darkorange', linewidth=2)
axes[0, 1].set_title('Daily Revenue')
axes[0, 1].set_xlabel('Day')
axes[0, 1].set_ylabel('Revenue')

# --- Satisfaction ---
axes[1, 0].plot(results['day'], results['satisfaction'], color='forestgreen', linewidth=2)
axes[1, 0].set_title('Average Customer Satisfaction')
axes[1, 0].set_xlabel('Day')
axes[1, 0].set_ylabel('Satisfaction Level (0–1)')

# --- Price Dynamics ---
axes[1, 1].plot(results['day'], results['price'], color='royalblue', linewidth=2)
axes[1, 1].set_title('Price Evolution (Dynamic Feedback)')
axes[1, 1].set_xlabel('Day')
axes[1, 1].set_ylabel('Price')

# --- Complexity Entropy ---
axes[2, 0].plot(results['day'], results['complexity_entropy'], color='crimson', linewidth=2)
axes[2, 0].set_title('System Complexity (Entropy)')
axes[2, 0].set_xlabel('Day')
axes[2, 0].set_ylabel('Entropy')

# --- Network Density ---
axes[2, 1].plot(results['day'], results['network_density'], color='purple', linewidth=2)
axes[2, 1].set_title('Network Density')
axes[2, 1].set_xlabel('Day')
axes[2, 1].set_ylabel('Density')

plt.tight_layout(rect=[0, 0, 1, 0.96])
plt.savefig('../data/fig_system_dynamics_overview.png', dpi=300, bbox_inches='tight')
plt.show()

# ==========================================================
# 3. Stability Index Trend
# ==========================================================

print("\n⚖️ Visualizing system stability...")

plt.figure(figsize=(10, 6))
plt.plot(results['day'], results['stability_index'], color='teal', linewidth=2)
plt.title("System Stability Index Over Time", fontsize=14, fontweight='bold')
plt.xlabel("Day")
plt.ylabel("Stability Index (Higher = More Stable)")
plt.grid(True)
plt.savefig('../data/fig_stability_index_trend.png', dpi=300, bbox_inches='tight')
plt.show()

# ==========================================================
# 4. Complexity Relationships
# ==========================================================

print("\n🧩 Plotting relationships between complexity metrics...")

fig, ax = plt.subplots(1, 2, figsize=(14, 6))

sns.scatterplot(data=results, x='complexity_entropy', y='network_density',
                ax=ax[0], color='darkred', s=60, alpha=0.7)
ax[0].set_title("Entropy vs Network Density")
ax[0].set_xlabel("System Entropy")
ax[0].set_ylabel("Network Density")

sns.scatterplot(data=results, x='complexity_entropy', y='cv',
                ax=ax[1], color='darkblue', s=60, alpha=0.7)
ax[1].set_title("Entropy vs Coefficient of Variation")
ax[1].set_xlabel("System Entropy")
ax[1].set_ylabel("CV (System Fluctuation)")

plt.tight_layout()
plt.savefig('../data/fig_complexity_relationships.png', dpi=300, bbox_inches='tight')
plt.show()

# ==========================================================
# 5. Multi-Scenario Comparison (optional)
# ==========================================================

print("\n🔁 Running comparative scenario: without group leader...")

model_no_leader = EnhancedMinimalMarketABM(num_residents=60, has_groupbuy=False)
results_no_leader = model_no_leader.run_simulation(days=120)
results_no_leader['scenario'] = 'No Leader'
results['scenario'] = 'With Leader'

combined = pd.concat([results, results_no_leader], ignore_index=True)

plt.figure(figsize=(10, 6))
sns.lineplot(data=combined, x='day', y='stability_index', hue='scenario', linewidth=2)
plt.title("Impact of Group Leader on System Stability", fontsize=14, fontweight='bold')
plt.xlabel("Day")
plt.ylabel("Stability Index")
plt.legend(title='Scenario')
plt.savefig('../data/fig_stability_comparison.png', dpi=300, bbox_inches='tight')
plt.show()

# ==========================================================
# 6. Summary Dashboard (text output)
# ==========================================================

print("\n📈 Summary of System Performance")
summary = combined.groupby('scenario')[['demand', 'spoilage', 'satisfaction', 'stability_index']].mean().round(3)
print(summary)

summary.to_csv('../data/simulation_summary_comparison.csv')

print("\n✅ Visualization notebook completed successfully!")
print("All figures saved in: ../data/")
